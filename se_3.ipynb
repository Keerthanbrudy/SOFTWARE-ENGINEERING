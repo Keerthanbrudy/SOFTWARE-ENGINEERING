{
  "nbformat": 4,
  "nbformat_minor": 0,
  "metadata": {
    "colab": {
      "provenance": [],
      "authorship_tag": "ABX9TyOEWof7MaLaZVsQ+IA5PRIU",
      "include_colab_link": true
    },
    "kernelspec": {
      "name": "python3",
      "display_name": "Python 3"
    },
    "language_info": {
      "name": "python"
    }
  },
  "cells": [
    {
      "cell_type": "markdown",
      "metadata": {
        "id": "view-in-github",
        "colab_type": "text"
      },
      "source": [
        "<a href=\"https://colab.research.google.com/github/Keerthanbrudy/SOFTWARE-ENGINEERING/blob/main/se_3.ipynb\" target=\"_parent\"><img src=\"https://colab.research.google.com/assets/colab-badge.svg\" alt=\"Open In Colab\"/></a>"
      ]
    },
    {
      "cell_type": "code",
      "execution_count": null,
      "metadata": {
        "colab": {
          "base_uri": "https://localhost:8080/"
        },
        "id": "fWeS4dBaORMY",
        "outputId": "b1e1a4fe-6dce-41f3-f32c-65c609f514bb"
      },
      "outputs": [
        {
          "output_type": "stream",
          "name": "stdout",
          "text": [
            "At time 10 seconds, the temperature is 52.00°C.\n"
          ]
        }
      ],
      "source": [
        "#Hardcoding Variables\n",
        "a = 0.5\n",
        "b = -2.3\n",
        "c = 25.0\n",
        "\n",
        "\n",
        "time = 10\n",
        "\n",
        "# Calculate the temperature at the given time\n",
        "temperature = a * (time ** 2) + b * time + c\n",
        "\n",
        "\n",
        "print(f\"At time {time} seconds, the temperature is {temperature:.2f}°C.\")\n"
      ]
    },
    {
      "cell_type": "code",
      "source": [
        "# Accept coefficients from the user\n",
        "a = float(input(\"Enter the coefficient 'a' (for time^2): \"))\n",
        "b = float(input(\"Enter the coefficient 'b' (for time): \"))\n",
        "c = float(input(\"Enter the constant 'c': \"))\n",
        "\n",
        "time = float(input(\"Enter the time value (seconds): \"))\n",
        "\n",
        "\n",
        "temperature = a * (time ** 2) + b * time + c\n",
        "\n",
        "\n",
        "print(f\"At time {time} seconds, the temperature is {temperature:.2f}°C.\")\n"
      ],
      "metadata": {
        "colab": {
          "base_uri": "https://localhost:8080/"
        },
        "id": "FxmK_gr4PUAA",
        "outputId": "1bdc947c-b7ad-41fb-daac-bc0d5dc3d0f7"
      },
      "execution_count": null,
      "outputs": [
        {
          "output_type": "stream",
          "name": "stdout",
          "text": [
            "Enter the coefficient 'a' (for time^2): 5\n",
            "Enter the coefficient 'b' (for time): 12\n",
            "Enter the constant 'c': 13\n",
            "Enter the time value (seconds): 10\n",
            "At time 10.0 seconds, the temperature is 633.00°C.\n"
          ]
        }
      ]
    },
    {
      "cell_type": "code",
      "source": [
        "# Read variables from a file\n",
        "def read_variables_from_file(filename):\n",
        "    variables = {}\n",
        "    with open(filename, 'r') as file:\n",
        "        for line in file:\n",
        "            # Split the line into a key and value\n",
        "            key, value = line.strip().split('=')\n",
        "            variables[key] = float(value)  # Convert value to float\n",
        "    return variables\n",
        "\n",
        "filename = 'variables.txt'\n",
        "\n",
        "variables = read_variables_from_file(filename)\n",
        "\n",
        "a = variables['a']\n",
        "b = variables['b']\n",
        "c = variables['c']\n",
        "time = variables['time']\n",
        "\n",
        "\n",
        "temperature = a * (time ** 2) + b * time + c\n",
        "\n",
        "\n",
        "print(f\"At time {time} seconds, the temperature is {temperature:.2f}°C.\")"
      ],
      "metadata": {
        "colab": {
          "base_uri": "https://localhost:8080/"
        },
        "id": "YtfuWvWrPrH3",
        "outputId": "6a3fdd40-c25a-4454-fb38-4604ac341c04"
      },
      "execution_count": null,
      "outputs": [
        {
          "output_type": "stream",
          "name": "stdout",
          "text": [
            "At time 10.0 seconds, the temperature is 52.00°C.\n"
          ]
        }
      ]
    },
    {
      "cell_type": "code",
      "source": [
        "# Function to read a single set of coefficients from a file\n",
        "def read_coefficients_from_file(filename):\n",
        "    coefficients = {}\n",
        "    with open(filename, 'r') as file:\n",
        "        for line in file:\n",
        "            key, value = line.strip().split('=')\n",
        "            coefficients[key] = float(value)\n",
        "    return coefficients\n",
        "\n",
        "\n",
        "filename = 'coefficients.txt'\n",
        "\n",
        "\n",
        "coefficients = read_coefficients_from_file(filename)\n",
        "\n",
        "\n",
        "a = coefficients['a']\n",
        "b = coefficients['b']\n",
        "c = coefficients['c']\n",
        "time = coefficients['time']\n",
        "\n",
        "\n",
        "temperature = a * (time ** 2) + b * time + c\n",
        "\n",
        "\n",
        "print(f\"At time {time} seconds, the temperature is {temperature:.2f}°C.\")\n"
      ],
      "metadata": {
        "colab": {
          "base_uri": "https://localhost:8080/"
        },
        "id": "QbXF3xIbTBPu",
        "outputId": "02f968ad-bed3-4c1e-d25a-463c6fe9b1e6"
      },
      "execution_count": null,
      "outputs": [
        {
          "output_type": "stream",
          "name": "stdout",
          "text": [
            "At time 10.0 seconds, the temperature is 52.00°C.\n"
          ]
        }
      ]
    },
    {
      "cell_type": "code",
      "source": [
        "# Function to process multiple sets of inputs from a file\n",
        "def process_multiple_sets(filename):\n",
        "    with open(filename, 'r') as file:\n",
        "        print(\"Processing multiple sets of inputs...\\n\")\n",
        "        for line_num, line in enumerate(file, start=1):\n",
        "            try:\n",
        "                coefficients = {}\n",
        "                for item in line.strip().split(','):\n",
        "                    key, value = item.strip().split('=')\n",
        "                    coefficients[key.strip()] = float(value.strip())\n",
        "\n",
        "                a = coefficients['a']\n",
        "                b = coefficients['b']\n",
        "                c = coefficients['c']\n",
        "                time = coefficients['time']\n",
        "\n",
        "                temperature = a * (time ** 2) + b * time + c\n",
        "\n",
        "                print(f\"Set {line_num}: At time {time} seconds, the temperature is {temperature:.2f}°C.\")\n",
        "            except Exception as e:\n",
        "                print(f\"Error processing line {line_num}: {line.strip()} - {e}\")\n",
        "\n",
        "filename = 'multiple_sets.txt'\n",
        "\n",
        "process_multiple_sets(filename)\n"
      ],
      "metadata": {
        "colab": {
          "base_uri": "https://localhost:8080/"
        },
        "id": "yCJywRdRT-42",
        "outputId": "ab4f5483-e0d5-46b4-8d39-58e43d8f37dc"
      },
      "execution_count": null,
      "outputs": [
        {
          "output_type": "stream",
          "name": "stdout",
          "text": [
            "Processing multiple sets of inputs...\n",
            "\n",
            "Set 1: At time 10.0 seconds, the temperature is 52.00°C.\n",
            "Set 2: At time 5.0 seconds, the temperature is 22.50°C.\n",
            "Set 3: At time 8.0 seconds, the temperature is 52.60°C.\n"
          ]
        }
      ]
    }
  ]
}