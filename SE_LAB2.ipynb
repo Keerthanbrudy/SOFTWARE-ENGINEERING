{
  "nbformat": 4,
  "nbformat_minor": 0,
  "metadata": {
    "colab": {
      "provenance": [],
      "authorship_tag": "ABX9TyNIyTISegt5ac2lE+H4kia8",
      "include_colab_link": true
    },
    "kernelspec": {
      "name": "python3",
      "display_name": "Python 3"
    },
    "language_info": {
      "name": "python"
    }
  },
  "cells": [
    {
      "cell_type": "markdown",
      "metadata": {
        "id": "view-in-github",
        "colab_type": "text"
      },
      "source": [
        "<a href=\"https://colab.research.google.com/github/Keerthanbrudy/SOFTWARE-ENGINEERING/blob/main/SE_LAB2.ipynb\" target=\"_parent\"><img src=\"https://colab.research.google.com/assets/colab-badge.svg\" alt=\"Open In Colab\"/></a>"
      ]
    },
    {
      "cell_type": "code",
      "execution_count": 1,
      "metadata": {
        "colab": {
          "base_uri": "https://localhost:8080/"
        },
        "id": "DmFCxx4OlHLr",
        "outputId": "829da656-701b-4ab4-c9ab-e97c047d2345"
      },
      "outputs": [
        {
          "output_type": "execute_result",
          "data": {
            "text/plain": [
              "30"
            ]
          },
          "metadata": {},
          "execution_count": 1
        }
      ],
      "source": [
        "#ADD TWO NUMBERS A AND B ARE 10 AND 20\n",
        "\n",
        "a = 10\n",
        "b = 20\n",
        "sum = a + b\n",
        "sum\n"
      ]
    },
    {
      "cell_type": "code",
      "source": [
        "#ADD TWO NUMBERS WHERE INPUT WHERE TAKEN FROM USER AND IF INVALID GIVE AN ONVALID STATEMENT\n",
        "\n",
        "def add_two_numbers():\n",
        "    try:\n",
        "        a = int(input(\"Enter the first number: \"))\n",
        "        b = int(input(\"Enter the second number: \"))\n",
        "        sum = a + b\n",
        "        print(\"The sum of\", a, \"and\", b, \"is\", sum)\n",
        "    except ValueError:\n",
        "        print(\"Invalid input. Please enter valid integers.\")\n",
        "\n",
        "add_two_numbers()"
      ],
      "metadata": {
        "colab": {
          "base_uri": "https://localhost:8080/"
        },
        "id": "NE1JS2deln9N",
        "outputId": "f38d6b4c-7aac-4aa8-f2b2-3a4e046e51f8"
      },
      "execution_count": 2,
      "outputs": [
        {
          "output_type": "stream",
          "name": "stdout",
          "text": [
            "Enter the first number: 5\n",
            "Enter the second number: 7\n",
            "The sum of 5 and 7 is 12\n"
          ]
        }
      ]
    },
    {
      "cell_type": "code",
      "source": [
        "user_input = input(\"Please enter a number: \")\n",
        "with open(\"single_input.txt\", \"w\") as f:\n",
        "    f.write(user_input)\n",
        "\n",
        "try:\n",
        "    with open(\"single_input.txt\", \"r\") as f:\n",
        "        num = int(f.read().strip())\n",
        "        result = num * 2\n",
        "        print(f\"Single Input Read from File: {num} * 2 = {result}\")\n",
        "except FileNotFoundError:\n",
        "    print(\"File not found!\")\n",
        "except ValueError:\n",
        "    print(\"Error in reading or converting the input!\")"
      ],
      "metadata": {
        "colab": {
          "base_uri": "https://localhost:8080/"
        },
        "id": "tEBhRFJKuhe_",
        "outputId": "e9a55f5c-f5d4-4ba9-b7a6-98d217eb01e1"
      },
      "execution_count": 6,
      "outputs": [
        {
          "output_type": "stream",
          "name": "stdout",
          "text": [
            "Please enter a number: 24\n",
            "Single Input Read from File: 24 * 2 = 48\n"
          ]
        }
      ]
    },
    {
      "cell_type": "code",
      "source": [
        "#READ ME MULTIPLE INPUTS SIMPLE PROGRM\n",
        "\n",
        "def read_multiple_inputs():\n",
        "    try:\n",
        "        num1 = int(input(\"Enter the first number: \"))\n",
        "        num2 = int(input(\"Enter the second number: \"))\n",
        "        num3 = int(input(\"Enter the third number: \"))\n",
        "\n",
        "        # Process the inputs (example: calculate the sum)\n",
        "        total = num1 + num2 + num3\n",
        "        print(f\"The sum of {num1}, {num2}, and {num3} is: {total}\")\n",
        "\n",
        "    except ValueError:\n",
        "        print(\"Invalid input. Please enter valid integers.\")\n",
        "\n",
        "read_multiple_inputs()"
      ],
      "metadata": {
        "colab": {
          "base_uri": "https://localhost:8080/"
        },
        "id": "wmFJPuv3zOcK",
        "outputId": "4ea14c41-fcf1-40cf-faf5-395011258cff"
      },
      "execution_count": 18,
      "outputs": [
        {
          "output_type": "stream",
          "name": "stdout",
          "text": [
            "Enter the first number: 34\n",
            "Enter the second number: 455\n",
            "Enter the third number: 234\n",
            "The sum of 34, 455, and 234 is: 723\n"
          ]
        }
      ]
    }
  ]
}